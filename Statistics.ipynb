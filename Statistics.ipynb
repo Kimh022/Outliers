{
  "nbformat": 4,
  "nbformat_minor": 0,
  "metadata": {
    "colab": {
      "provenance": []
    },
    "kernelspec": {
      "name": "python3",
      "display_name": "Python 3"
    },
    "language_info": {
      "name": "python"
    }
  },
  "cells": [
    {
      "cell_type": "code",
      "execution_count": 1,
      "metadata": {
        "id": "7Rvz1NR_xr78"
      },
      "outputs": [],
      "source": [
        "import pandas as pd\n",
        "import numpy as np\n",
        "import matplotlib.pyplot as plt\n",
        "from statsmodels.formula.api import ols"
      ]
    },
    {
      "cell_type": "code",
      "source": [
        "a = pd.read_csv('quakes.csv')"
      ],
      "metadata": {
        "id": "a7Gl-XeHx4kJ"
      },
      "execution_count": 2,
      "outputs": []
    },
    {
      "cell_type": "code",
      "source": [
        "a.shape"
      ],
      "metadata": {
        "id": "c_h1E9yYx_kH",
        "colab": {
          "base_uri": "https://localhost:8080/"
        },
        "outputId": "03a7fc40-ec11-4fda-9cf4-0be77e470b9a"
      },
      "execution_count": 3,
      "outputs": [
        {
          "output_type": "execute_result",
          "data": {
            "text/plain": [
              "(1000, 5)"
            ]
          },
          "metadata": {},
          "execution_count": 3
        }
      ]
    },
    {
      "cell_type": "code",
      "source": [
        "np.mean(a['mag'])"
      ],
      "metadata": {
        "id": "XedpQnhwyDyW",
        "colab": {
          "base_uri": "https://localhost:8080/"
        },
        "outputId": "829f81b9-4424-462a-bade-9c61ec8e67bf"
      },
      "execution_count": 4,
      "outputs": [
        {
          "output_type": "execute_result",
          "data": {
            "text/plain": [
              "4.6204"
            ]
          },
          "metadata": {},
          "execution_count": 4
        }
      ]
    },
    {
      "cell_type": "code",
      "source": [
        "np.std(a['depth'])"
      ],
      "metadata": {
        "id": "tIwsGsIPyMfF",
        "colab": {
          "base_uri": "https://localhost:8080/"
        },
        "outputId": "2cde5d37-4532-4ba5-a13c-3d0b9506a3ad"
      },
      "execution_count": 5,
      "outputs": [
        {
          "output_type": "execute_result",
          "data": {
            "text/plain": [
              "215.42770332294776"
            ]
          },
          "metadata": {},
          "execution_count": 5
        }
      ]
    },
    {
      "cell_type": "code",
      "source": [
        "x = np.linspace(0,20,100)"
      ],
      "metadata": {
        "id": "XyYluloOyYtx"
      },
      "execution_count": 6,
      "outputs": []
    },
    {
      "cell_type": "code",
      "source": [
        "y = 2.0 + .5*x + 2.1*np.random.normal(size = x.shape)"
      ],
      "metadata": {
        "id": "qRt8Pn-py0QS"
      },
      "execution_count": 7,
      "outputs": []
    },
    {
      "cell_type": "code",
      "source": [
        "data = pd.DataFrame({'x':x, 'y': y})"
      ],
      "metadata": {
        "id": "B13dhBdZy6rR"
      },
      "execution_count": 8,
      "outputs": []
    },
    {
      "cell_type": "code",
      "source": [
        "m,b = np.polyfit(x,y,1)"
      ],
      "metadata": {
        "id": "3ZcvjeXwzBSS"
      },
      "execution_count": 9,
      "outputs": []
    },
    {
      "cell_type": "code",
      "source": [
        "m"
      ],
      "metadata": {
        "id": "4dzxxz-Kz-5L",
        "colab": {
          "base_uri": "https://localhost:8080/"
        },
        "outputId": "33d9cd93-cea4-42a2-e3ba-02de3677d09d"
      },
      "execution_count": 10,
      "outputs": [
        {
          "output_type": "execute_result",
          "data": {
            "text/plain": [
              "0.4851049942207677"
            ]
          },
          "metadata": {},
          "execution_count": 10
        }
      ]
    },
    {
      "cell_type": "code",
      "source": [
        "b"
      ],
      "metadata": {
        "id": "8QvCLBU-z_lo",
        "colab": {
          "base_uri": "https://localhost:8080/"
        },
        "outputId": "c2460c2f-d272-497e-af03-b1fd806b1ac8"
      },
      "execution_count": 11,
      "outputs": [
        {
          "output_type": "execute_result",
          "data": {
            "text/plain": [
              "2.122002907134099"
            ]
          },
          "metadata": {},
          "execution_count": 11
        }
      ]
    },
    {
      "cell_type": "code",
      "source": [
        "plt.plot(x,y,'o')\n",
        "plt.plot(x,m*x+b)\n",
        "plt.plot(x,.5*x + 2)"
      ],
      "metadata": {
        "id": "-0RIjTNwz_1D",
        "colab": {
          "base_uri": "https://localhost:8080/",
          "height": 447
        },
        "outputId": "82d72a21-bdb0-4ccc-bf61-662f85071865"
      },
      "execution_count": 12,
      "outputs": [
        {
          "output_type": "execute_result",
          "data": {
            "text/plain": [
              "[<matplotlib.lines.Line2D at 0x7bf1b2d861a0>]"
            ]
          },
          "metadata": {},
          "execution_count": 12
        },
        {
          "output_type": "display_data",
          "data": {
            "text/plain": [
              "<Figure size 640x480 with 1 Axes>"
            ],
            "image/png": "[encoded data removed]"
          },
          "metadata": {}
        }
      ]
    }
  ]
}